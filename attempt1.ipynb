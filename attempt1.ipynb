{
 "cells": [
  {
   "cell_type": "code",
   "execution_count": 1,
   "metadata": {},
   "outputs": [],
   "source": [
    "import pyabf\n",
    "import numpy as np\n",
    "import matplotlib.pyplot as plt\n",
    "from scipy.signal import spectrogram, butter, filtfilt\n",
    "from concurrent.futures import ThreadPoolExecutor\n",
    "\n",
    "# Extracting all channels data at once\n",
    "def get_all_channels_data(abf):\n",
    "    abf.setSweep(sweepNumber=0)\n",
    "    data =  np.array([abf.sweepY for i in range(abf.channelCount)])\n",
    "    time = np.array(abf.sweepX)\n",
    "    return time, data \n",
    "\n",
    "# Function to plot raw signals\n",
    "def plot_raw_signals(time,data):\n",
    "    fig, axes = plt.subplots(len(data), 1, figsize=(20, 20), sharex=True)\n",
    "    for i, ax in enumerate(axes):\n",
    "        ax.plot(time, data[i])\n",
    "        ax.set_title(f'Channel {i + 1}')\n",
    "        ax.set_ylabel('Amplitude')\n",
    "    axes[-1].set_xlabel('Time (s)')\n",
    "    plt.show()\n",
    "\n",
    "def compute_spectrogram(data, fs):\n",
    "    f, t, Sxx = spectrogram(data + 1e-10, fs=fs)\n",
    "    Sxx[Sxx == 0] = 1e-10  # Replace zero values with a small constant\n",
    "    return f, t, 10 * np.log10(Sxx)\n",
    "\n",
    "def plot_spectrograms(time, data):\n",
    "    fig, axes = plt.subplots(len(data), 1, figsize=(20, 15), sharex=True)\n",
    "    fs = 1/(time[1] - time[0])\n",
    "    with ThreadPoolExecutor() as executor:\n",
    "        results = list(executor.map(compute_spectrogram, data, [fs]*len(data)))\n",
    "    for i, (f, t, Sxx) in enumerate(results):\n",
    "        ax = axes[i]\n",
    "        cax = ax.pcolormesh(t, f, Sxx, shading='gouraud')\n",
    "        ax.set_title(f'Spectrogram - Channel {i + 1}')\n",
    "        ax.set_ylabel('Frequency (Hz)')\n",
    "        fig.colorbar(cax, ax=ax, label='Power/Frequency (dB/Hz)')\n",
    "    axes[-1].set_xlabel('Time (s)')\n",
    "    plt.show()\n",
    "\n",
    "# Function to apply a bandpass filter\n",
    "def bandpass_filter(data, lowcut, highcut, fs, order=4):\n",
    "    nyquist = 0.5 * fs\n",
    "    low = lowcut / nyquist\n",
    "    high = highcut / nyquist\n",
    "    b, a = butter(order, [low, high], btype='band')\n",
    "    return filtfilt(b, a, data)\n",
    "\n",
    "# Function to plot filtered signals\n",
    "def plot_filtered_signals(time, data, lowcut, highcut, band_name):\n",
    "    fs = 1/(time[1] - time[0])\n",
    "    filtered_data = np.array([bandpass_filter(channel_data, lowcut, highcut, fs) for channel_data in data])\n",
    "    fig, axes = plt.subplots(len(data), 1, figsize=(10, 20), sharex=True)\n",
    "    for i, ax in enumerate(axes):\n",
    "        ax.plot(time, filtered_data[i])\n",
    "        ax.set_title(f'{band_name} Band ({lowcut}-{highcut} Hz) - Channel {i + 1}')\n",
    "        ax.set_ylabel('Amplitude')\n",
    "    axes[-1].set_xlabel('Time (s)')\n",
    "    plt.show()"
   ]
  },
  {
   "cell_type": "code",
   "execution_count": 2,
   "metadata": {},
   "outputs": [
    {
     "ename": "AttributeError",
     "evalue": "'ABF' object has no attribute 'close'",
     "output_type": "error",
     "traceback": [
      "\u001b[1;31m---------------------------------------------------------------------------\u001b[0m",
      "\u001b[1;31mAttributeError\u001b[0m                            Traceback (most recent call last)",
      "Cell \u001b[1;32mIn[2], line 5\u001b[0m\n\u001b[0;32m      3\u001b[0m abf \u001b[38;5;241m=\u001b[39m pyabf\u001b[38;5;241m.\u001b[39mABF(file_path)\n\u001b[0;32m      4\u001b[0m eeg_times, eeg_mv_data \u001b[38;5;241m=\u001b[39m get_all_channels_data(abf)\n\u001b[1;32m----> 5\u001b[0m abf\u001b[38;5;241m.\u001b[39mclose()\n\u001b[0;32m      6\u001b[0m \u001b[38;5;28mprint\u001b[39m(eeg_mv_data)\n\u001b[0;32m      7\u001b[0m \u001b[38;5;28mprint\u001b[39m(eeg_times)\n",
      "\u001b[1;31mAttributeError\u001b[0m: 'ABF' object has no attribute 'close'"
     ]
    }
   ],
   "source": [
    "# Load the ABF file\n",
    "file_path = \"2022_05_18_0001.abf\"\n",
    "abf = pyabf.ABF(file_path)\n",
    "eeg_times, eeg_mv_data = get_all_channels_data(abf)\n",
    "print(eeg_mv_data)\n",
    "print(eeg_times)"
   ]
  },
  {
   "cell_type": "code",
   "execution_count": null,
   "metadata": {},
   "outputs": [],
   "source": [
    "# Plot raw signals\n",
    "print(len(eeg_mv_data))\n",
    "plot_raw_signals(eeg_times,eeg_mv_data)"
   ]
  },
  {
   "cell_type": "code",
   "execution_count": null,
   "metadata": {},
   "outputs": [],
   "source": [
    "# Plot spectrograms\n",
    "plot_spectrograms(eeg_times, eeg_mv_data)"
   ]
  },
  {
   "cell_type": "code",
   "execution_count": null,
   "metadata": {},
   "outputs": [],
   "source": [
    "# Plot filtered signals for different frequency bands\n",
    "# Example frequency bands: Delta (0.5-4 Hz), Theta (4-8 Hz), Alpha (8-12 Hz), Beta (12-30 Hz), Gamma (30-100 Hz)\n",
    "bands = {'Delta': (0.5, 4), 'Theta': (4, 8), 'Alpha': (8, 12), 'Beta': (12, 30), 'Gamma': (30, 100)}\n",
    "for band_name, (lowcut, highcut) in bands.items():\n",
    "    plot_filtered_signals(eeg_times,eeg_mv_data, lowcut, highcut, band_name)"
   ]
  }
 ],
 "metadata": {
  "kernelspec": {
   "display_name": "Python 3",
   "language": "python",
   "name": "python3"
  },
  "language_info": {
   "codemirror_mode": {
    "name": "ipython",
    "version": 3
   },
   "file_extension": ".py",
   "mimetype": "text/x-python",
   "name": "python",
   "nbconvert_exporter": "python",
   "pygments_lexer": "ipython3",
   "version": "3.11.7"
  }
 },
 "nbformat": 4,
 "nbformat_minor": 2
}
